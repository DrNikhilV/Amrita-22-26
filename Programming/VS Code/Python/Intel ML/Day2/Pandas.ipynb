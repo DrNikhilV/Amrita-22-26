{
 "cells": [
  {
   "cell_type": "code",
   "execution_count": 3,
   "id": "2f8fe1d9-882b-44a0-a1d1-8645bf5b0769",
   "metadata": {},
   "outputs": [],
   "source": [
    "import numpy as np"
   ]
  },
  {
   "cell_type": "code",
   "execution_count": 4,
   "id": "a442e4b6-d5e1-45ae-8484-e7fdfb5579e4",
   "metadata": {},
   "outputs": [],
   "source": [
    "import pandas as pd"
   ]
  },
  {
   "cell_type": "code",
   "execution_count": 20,
   "id": "05886a5a-3215-4e8d-ad4c-dac78afa3d90",
   "metadata": {},
   "outputs": [
    {
     "name": "stdout",
     "output_type": "stream",
     "text": [
      "[1, 2, 3, 4, 5]\n"
     ]
    }
   ],
   "source": [
    "l = [1,2,3,4,5]\n",
    "print(l)"
   ]
  },
  {
   "cell_type": "code",
   "execution_count": 21,
   "id": "39edbe8a-6fa7-48e4-8b43-d84c3295e777",
   "metadata": {},
   "outputs": [
    {
     "name": "stdout",
     "output_type": "stream",
     "text": [
      "0    1\n",
      "1    2\n",
      "2    3\n",
      "3    4\n",
      "4    5\n",
      "dtype: int64\n"
     ]
    }
   ],
   "source": [
    "s1 = pd.Series(data = l)\n",
    "print(s1)"
   ]
  },
  {
   "cell_type": "code",
   "execution_count": 22,
   "id": "34a9c812-782f-49ac-bb51-6493283ebbe1",
   "metadata": {},
   "outputs": [
    {
     "name": "stdout",
     "output_type": "stream",
     "text": [
      "a    1\n",
      "b    2\n",
      "c    3\n",
      "d    4\n",
      "e    5\n",
      "dtype: int64\n"
     ]
    }
   ],
   "source": [
    "s2 = pd.Series(data = l, index = ['a','b','c','d','e'])\n",
    "print(s2)"
   ]
  },
  {
   "cell_type": "code",
   "execution_count": 23,
   "id": "9efc6022-1c39-434b-9705-b85fd442c739",
   "metadata": {},
   "outputs": [
    {
     "name": "stdout",
     "output_type": "stream",
     "text": [
      "<class 'list'>\n",
      "<class 'pandas.core.series.Series'>\n",
      "<class 'pandas.core.series.Series'>\n"
     ]
    }
   ],
   "source": [
    "print(type(l))\n",
    "print(type(s1))\n",
    "print(type(s2))"
   ]
  },
  {
   "cell_type": "code",
   "execution_count": 50,
   "id": "e611d9c1-3f6c-4e11-92c5-91afa697776b",
   "metadata": {
    "tags": []
   },
   "outputs": [
    {
     "name": "stdout",
     "output_type": "stream",
     "text": [
      "[[0.99450646 0.62057603 0.75215003 0.07494241]\n",
      " [0.57270864 0.36334087 0.73299456 0.47802551]\n",
      " [0.71392812 0.1521094  0.80587663 0.82161488]\n",
      " [0.49192644 0.03657638 0.10471204 0.01717536]\n",
      " [0.22834252 0.55228073 0.9044926  0.68643899]]\n"
     ]
    }
   ],
   "source": [
    "s3 = np.random.rand(5,4)\n",
    "print(s3)"
   ]
  },
  {
   "cell_type": "code",
   "execution_count": 53,
   "id": "c9331ee4-f3bd-435a-885a-28e0adce0bd8",
   "metadata": {},
   "outputs": [
    {
     "name": "stdout",
     "output_type": "stream",
     "text": [
      "          0         1         2         3\n",
      "0  0.994506  0.620576  0.752150  0.074942\n",
      "1  0.572709  0.363341  0.732995  0.478026\n",
      "2  0.713928  0.152109  0.805877  0.821615\n",
      "3  0.491926  0.036576  0.104712  0.017175\n",
      "4  0.228343  0.552281  0.904493  0.686439\n"
     ]
    }
   ],
   "source": [
    "s4 = pd.DataFrame(data = s3)\n",
    "print(s4)"
   ]
  },
  {
   "cell_type": "code",
   "execution_count": 52,
   "id": "cb0df41f-5c15-49b9-9a99-4d26b04b44a1",
   "metadata": {},
   "outputs": [
    {
     "name": "stdout",
     "output_type": "stream",
     "text": [
      "          w         x         y         z\n",
      "a  1.604315 -1.298266  1.319435 -0.502336\n",
      "b  0.727919  2.074492  1.735363  0.130672\n",
      "c -0.213580  0.134152 -1.577397  0.380436\n",
      "d  0.979277 -0.172227 -1.152976 -1.279026\n",
      "e  0.609393  1.011215 -2.547640  0.074165\n"
     ]
    }
   ],
   "source": [
    "s5 = pd.DataFrame(np.random.randn(5,4),['a','b','c','d','e'],['w','x','y','z'])\n",
    "print(s5)"
   ]
  },
  {
   "cell_type": "code",
   "execution_count": 55,
   "id": "9e3681c0-8185-4cf9-9b48-8f9eb69aaa86",
   "metadata": {},
   "outputs": [
    {
     "data": {
      "text/plain": [
       "1.60431505640834"
      ]
     },
     "execution_count": 55,
     "metadata": {},
     "output_type": "execute_result"
    }
   ],
   "source": [
    "s5.w['a']"
   ]
  },
  {
   "cell_type": "code",
   "execution_count": 58,
   "id": "da11e1cd-06bb-4614-814d-44947ec4d466",
   "metadata": {},
   "outputs": [
    {
     "data": {
      "text/html": [
       "<div>\n",
       "<style scoped>\n",
       "    .dataframe tbody tr th:only-of-type {\n",
       "        vertical-align: middle;\n",
       "    }\n",
       "\n",
       "    .dataframe tbody tr th {\n",
       "        vertical-align: top;\n",
       "    }\n",
       "\n",
       "    .dataframe thead th {\n",
       "        text-align: right;\n",
       "    }\n",
       "</style>\n",
       "<table border=\"1\" class=\"dataframe\">\n",
       "  <thead>\n",
       "    <tr style=\"text-align: right;\">\n",
       "      <th></th>\n",
       "      <th>w</th>\n",
       "      <th>x</th>\n",
       "    </tr>\n",
       "  </thead>\n",
       "  <tbody>\n",
       "    <tr>\n",
       "      <th>a</th>\n",
       "      <td>1.604315</td>\n",
       "      <td>-1.298266</td>\n",
       "    </tr>\n",
       "    <tr>\n",
       "      <th>b</th>\n",
       "      <td>0.727919</td>\n",
       "      <td>2.074492</td>\n",
       "    </tr>\n",
       "    <tr>\n",
       "      <th>c</th>\n",
       "      <td>-0.213580</td>\n",
       "      <td>0.134152</td>\n",
       "    </tr>\n",
       "    <tr>\n",
       "      <th>d</th>\n",
       "      <td>0.979277</td>\n",
       "      <td>-0.172227</td>\n",
       "    </tr>\n",
       "    <tr>\n",
       "      <th>e</th>\n",
       "      <td>0.609393</td>\n",
       "      <td>1.011215</td>\n",
       "    </tr>\n",
       "  </tbody>\n",
       "</table>\n",
       "</div>"
      ],
      "text/plain": [
       "          w         x\n",
       "a  1.604315 -1.298266\n",
       "b  0.727919  2.074492\n",
       "c -0.213580  0.134152\n",
       "d  0.979277 -0.172227\n",
       "e  0.609393  1.011215"
      ]
     },
     "execution_count": 58,
     "metadata": {},
     "output_type": "execute_result"
    }
   ],
   "source": [
    "s5[['w','x']]"
   ]
  },
  {
   "cell_type": "code",
   "execution_count": 60,
   "id": "c06c176d-c6ba-4996-a235-9a6fa2e58961",
   "metadata": {},
   "outputs": [
    {
     "name": "stdout",
     "output_type": "stream",
     "text": [
      "w    1.604315\n",
      "x   -1.298266\n",
      "y    1.319435\n",
      "z   -0.502336\n",
      "Name: a, dtype: float64\n"
     ]
    }
   ],
   "source": [
    "print(s5.loc[\"a\"])"
   ]
  },
  {
   "cell_type": "code",
   "execution_count": 63,
   "id": "f0f3d178-5650-4e61-b69d-e0930ce98e1c",
   "metadata": {},
   "outputs": [
    {
     "name": "stdout",
     "output_type": "stream",
     "text": [
      "w    1.604315\n",
      "x   -1.298266\n",
      "y    1.319435\n",
      "z   -0.502336\n",
      "Name: a, dtype: float64\n"
     ]
    }
   ],
   "source": [
    "print(s5.iloc[0])"
   ]
  },
  {
   "cell_type": "code",
   "execution_count": 69,
   "id": "ae84c840-3257-468f-8589-4632ac34ad09",
   "metadata": {},
   "outputs": [
    {
     "name": "stdout",
     "output_type": "stream",
     "text": [
      "          w         x         y         z\n",
      "a  1.604315       NaN  1.319435       NaN\n",
      "b  0.727919  2.074492  1.735363  0.130672\n",
      "c       NaN  0.134152       NaN  0.380436\n",
      "d  0.979277       NaN       NaN       NaN\n",
      "e  0.609393  1.011215       NaN  0.074165\n"
     ]
    },
    {
     "name": "stderr",
     "output_type": "stream",
     "text": [
      "/home/u204854/.local/lib/python3.9/site-packages/pandas/io/formats/format.py:1595: RuntimeWarning: invalid value encountered in greater\n",
      "  has_large_values = (abs_vals > 1e6).any()\n",
      "/home/u204854/.local/lib/python3.9/site-packages/pandas/io/formats/format.py:1596: RuntimeWarning: invalid value encountered in less\n",
      "  has_small_values = ((abs_vals < 10 ** (-self.digits)) & (abs_vals > 0)).any()\n",
      "/home/u204854/.local/lib/python3.9/site-packages/pandas/io/formats/format.py:1596: RuntimeWarning: invalid value encountered in greater\n",
      "  has_small_values = ((abs_vals < 10 ** (-self.digits)) & (abs_vals > 0)).any()\n"
     ]
    }
   ],
   "source": [
    "s6 = s5[s5>0]\n",
    "print(s6)"
   ]
  },
  {
   "cell_type": "code",
   "execution_count": 72,
   "id": "069b3c08-d170-45a8-bc33-0e07fb1d423b",
   "metadata": {},
   "outputs": [
    {
     "name": "stdout",
     "output_type": "stream",
     "text": [
      "          w         x         y         z\n",
      "b  0.727919  2.074492  1.735363  0.130672\n",
      "c -0.213580  0.134152 -1.577397  0.380436\n",
      "d  0.979277 -0.172227 -1.152976 -1.279026\n",
      "e  0.609393  1.011215 -2.547640  0.074165\n"
     ]
    }
   ],
   "source": [
    "s7 = s5.drop('a')\n",
    "print(s7)"
   ]
  },
  {
   "cell_type": "code",
   "execution_count": 78,
   "id": "83df68a1-3b0b-4805-a1f1-7aec1d71a1dd",
   "metadata": {},
   "outputs": [
    {
     "name": "stdout",
     "output_type": "stream",
     "text": [
      "          w         x         y         z\n",
      "b  0.727919  2.074492  1.735363  0.130672\n",
      "c -0.213580  0.134152 -1.577397  0.380436\n",
      "d  0.979277 -0.172227 -1.152976 -1.279026\n",
      "e  0.609393  1.011215 -2.547640  0.074165\n"
     ]
    }
   ],
   "source": [
    "s8 = s5.drop('a', axis = 0, inplace = False)\n",
    "print(s8)"
   ]
  },
  {
   "cell_type": "code",
   "execution_count": 82,
   "id": "0aa7c08c-6e6d-408a-8cdd-75416d25e0e2",
   "metadata": {},
   "outputs": [
    {
     "name": "stdout",
     "output_type": "stream",
     "text": [
      "None\n"
     ]
    }
   ],
   "source": [
    "s9 = s5.drop('w', axis = 1, inplace = True)\n",
    "print(s9)"
   ]
  },
  {
   "cell_type": "code",
   "execution_count": 93,
   "id": "41f70a01-63d6-4ec3-8a75-06cb28a01e4f",
   "metadata": {},
   "outputs": [
    {
     "name": "stdout",
     "output_type": "stream",
     "text": [
      "     A    B  C\n",
      "0  1.0  1.0  1\n",
      "1  2.0  NaN  2\n",
      "2  NaN  NaN  3\n",
      "     A    B  C\n",
      "0  1.0  1.0  1\n",
      "   C\n",
      "0  1\n",
      "1  2\n",
      "2  3\n",
      "     A    B  C\n",
      "0  1.0  1.0  1\n",
      "1  2.0  NaN  2\n"
     ]
    },
    {
     "name": "stderr",
     "output_type": "stream",
     "text": [
      "/home/u204854/.local/lib/python3.9/site-packages/pandas/io/formats/format.py:1595: RuntimeWarning: invalid value encountered in greater\n",
      "  has_large_values = (abs_vals > 1e6).any()\n",
      "/home/u204854/.local/lib/python3.9/site-packages/pandas/io/formats/format.py:1596: RuntimeWarning: invalid value encountered in less\n",
      "  has_small_values = ((abs_vals < 10 ** (-self.digits)) & (abs_vals > 0)).any()\n",
      "/home/u204854/.local/lib/python3.9/site-packages/pandas/io/formats/format.py:1596: RuntimeWarning: invalid value encountered in greater\n",
      "  has_small_values = ((abs_vals < 10 ** (-self.digits)) & (abs_vals > 0)).any()\n",
      "/home/u204854/.local/lib/python3.9/site-packages/pandas/io/formats/format.py:1595: RuntimeWarning: invalid value encountered in greater\n",
      "  has_large_values = (abs_vals > 1e6).any()\n",
      "/home/u204854/.local/lib/python3.9/site-packages/pandas/io/formats/format.py:1596: RuntimeWarning: invalid value encountered in less\n",
      "  has_small_values = ((abs_vals < 10 ** (-self.digits)) & (abs_vals > 0)).any()\n",
      "/home/u204854/.local/lib/python3.9/site-packages/pandas/io/formats/format.py:1596: RuntimeWarning: invalid value encountered in greater\n",
      "  has_small_values = ((abs_vals < 10 ** (-self.digits)) & (abs_vals > 0)).any()\n"
     ]
    }
   ],
   "source": [
    "#Dropping missing values\n",
    "d={'A':[1,2,np.NaN], 'B':[1,np.NaN,np.NaN],'C':[1,2,3]}\n",
    "# np.NaN is the missing element in DataFrame\n",
    "df5=pd.DataFrame(d)\n",
    "print(df5)\n",
    "a = df5.dropna()       #drop any row with missing value\n",
    "print(a)\n",
    "b = df5.dropna(axis=1) #drop column with NULL value\n",
    "print(b)\n",
    "c = df5.dropna(thresh=2) #Require <2 non-NA values to drop row.\n",
    "print(c)"
   ]
  },
  {
   "cell_type": "code",
   "execution_count": 103,
   "id": "0f907107-3c3a-43b3-bf00-c0b7b6d6b7d8",
   "metadata": {},
   "outputs": [
    {
     "name": "stdout",
     "output_type": "stream",
     "text": [
      "     A    B  C\n",
      "0  1.0  1.0  1\n",
      "1  2.0  NaN  2\n",
      "2  NaN  NaN  3\n",
      "     A    B  C\n",
      "0  1.0  1.0  1\n",
      "1  2.0  0.0  2\n",
      "2  0.0  0.0  3\n"
     ]
    },
    {
     "name": "stderr",
     "output_type": "stream",
     "text": [
      "/home/u204854/.local/lib/python3.9/site-packages/pandas/io/formats/format.py:1595: RuntimeWarning: invalid value encountered in greater\n",
      "  has_large_values = (abs_vals > 1e6).any()\n",
      "/home/u204854/.local/lib/python3.9/site-packages/pandas/io/formats/format.py:1596: RuntimeWarning: invalid value encountered in less\n",
      "  has_small_values = ((abs_vals < 10 ** (-self.digits)) & (abs_vals > 0)).any()\n",
      "/home/u204854/.local/lib/python3.9/site-packages/pandas/io/formats/format.py:1596: RuntimeWarning: invalid value encountered in greater\n",
      "  has_small_values = ((abs_vals < 10 ** (-self.digits)) & (abs_vals > 0)).any()\n"
     ]
    }
   ],
   "source": [
    "#Dropping missing values\n",
    "d={'A':[1,2,np.NaN], 'B':[1,np.NaN,np.NaN],'C':[1,2,3]}\n",
    "# np.NaN is the missing element in DataFrame\n",
    "df5=pd.DataFrame(d)\n",
    "print(df5)\n",
    "a = df5.fillna(0)       #drop any row with missing value\n",
    "print(a)"
   ]
  },
  {
   "cell_type": "code",
   "execution_count": 99,
   "id": "3bf6e160-2477-4c0e-990b-d6eb50baa746",
   "metadata": {},
   "outputs": [
    {
     "data": {
      "text/html": [
       "<div>\n",
       "<style scoped>\n",
       "    .dataframe tbody tr th:only-of-type {\n",
       "        vertical-align: middle;\n",
       "    }\n",
       "\n",
       "    .dataframe tbody tr th {\n",
       "        vertical-align: top;\n",
       "    }\n",
       "\n",
       "    .dataframe thead th {\n",
       "        text-align: right;\n",
       "    }\n",
       "</style>\n",
       "<table border=\"1\" class=\"dataframe\">\n",
       "  <thead>\n",
       "    <tr style=\"text-align: right;\">\n",
       "      <th></th>\n",
       "      <th>Gender</th>\n",
       "      <th>Height</th>\n",
       "      <th>Weight</th>\n",
       "    </tr>\n",
       "  </thead>\n",
       "  <tbody>\n",
       "    <tr>\n",
       "      <th>0</th>\n",
       "      <td>Male</td>\n",
       "      <td>73.847017</td>\n",
       "      <td>241.893563</td>\n",
       "    </tr>\n",
       "    <tr>\n",
       "      <th>1</th>\n",
       "      <td>Male</td>\n",
       "      <td>68.781904</td>\n",
       "      <td>162.310473</td>\n",
       "    </tr>\n",
       "    <tr>\n",
       "      <th>2</th>\n",
       "      <td>Male</td>\n",
       "      <td>74.110105</td>\n",
       "      <td>212.740856</td>\n",
       "    </tr>\n",
       "    <tr>\n",
       "      <th>3</th>\n",
       "      <td>Male</td>\n",
       "      <td>71.730978</td>\n",
       "      <td>220.042470</td>\n",
       "    </tr>\n",
       "    <tr>\n",
       "      <th>4</th>\n",
       "      <td>Male</td>\n",
       "      <td>69.881796</td>\n",
       "      <td>206.349801</td>\n",
       "    </tr>\n",
       "    <tr>\n",
       "      <th>...</th>\n",
       "      <td>...</td>\n",
       "      <td>...</td>\n",
       "      <td>...</td>\n",
       "    </tr>\n",
       "    <tr>\n",
       "      <th>9995</th>\n",
       "      <td>Female</td>\n",
       "      <td>66.172652</td>\n",
       "      <td>136.777454</td>\n",
       "    </tr>\n",
       "    <tr>\n",
       "      <th>9996</th>\n",
       "      <td>Female</td>\n",
       "      <td>67.067155</td>\n",
       "      <td>170.867906</td>\n",
       "    </tr>\n",
       "    <tr>\n",
       "      <th>9997</th>\n",
       "      <td>Female</td>\n",
       "      <td>63.867992</td>\n",
       "      <td>128.475319</td>\n",
       "    </tr>\n",
       "    <tr>\n",
       "      <th>9998</th>\n",
       "      <td>Female</td>\n",
       "      <td>69.034243</td>\n",
       "      <td>163.852461</td>\n",
       "    </tr>\n",
       "    <tr>\n",
       "      <th>9999</th>\n",
       "      <td>Female</td>\n",
       "      <td>61.944246</td>\n",
       "      <td>113.649103</td>\n",
       "    </tr>\n",
       "  </tbody>\n",
       "</table>\n",
       "<p>10000 rows × 3 columns</p>\n",
       "</div>"
      ],
      "text/plain": [
       "      Gender     Height      Weight\n",
       "0       Male  73.847017  241.893563\n",
       "1       Male  68.781904  162.310473\n",
       "2       Male  74.110105  212.740856\n",
       "3       Male  71.730978  220.042470\n",
       "4       Male  69.881796  206.349801\n",
       "...      ...        ...         ...\n",
       "9995  Female  66.172652  136.777454\n",
       "9996  Female  67.067155  170.867906\n",
       "9997  Female  63.867992  128.475319\n",
       "9998  Female  69.034243  163.852461\n",
       "9999  Female  61.944246  113.649103\n",
       "\n",
       "[10000 rows x 3 columns]"
      ]
     },
     "execution_count": 99,
     "metadata": {},
     "output_type": "execute_result"
    }
   ],
   "source": [
    "pd.read_csv(\"test1.csv\")"
   ]
  },
  {
   "cell_type": "code",
   "execution_count": null,
   "id": "7eeb273b-54c8-4f08-b5e6-e3931dfd39c6",
   "metadata": {},
   "outputs": [],
   "source": []
  }
 ],
 "metadata": {
  "kernelspec": {
   "display_name": "Python 3 (Intel® oneAPI 2023.2)",
   "language": "python",
   "name": "c009-intel_distribution_of_python_3_oneapi-beta05-python"
  },
  "language_info": {
   "codemirror_mode": {
    "name": "ipython",
    "version": 3
   },
   "file_extension": ".py",
   "mimetype": "text/x-python",
   "name": "python",
   "nbconvert_exporter": "python",
   "pygments_lexer": "ipython3",
   "version": "3.9.16"
  },
  "toc-autonumbering": true,
  "toc-showcode": true,
  "toc-showmarkdowntxt": true
 },
 "nbformat": 4,
 "nbformat_minor": 5
}
