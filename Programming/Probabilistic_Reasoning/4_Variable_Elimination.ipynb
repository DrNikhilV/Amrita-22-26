{
 "cells": [
  {
   "cell_type": "markdown",
   "metadata": {},
   "source": [
    "Implement variable elimination for exact inference in a Bayesian Network"
   ]
  },
  {
   "cell_type": "markdown",
   "metadata": {},
   "source": [
    "Code One"
   ]
  },
  {
   "cell_type": "code",
   "execution_count": 1,
   "metadata": {},
   "outputs": [
    {
     "name": "stderr",
     "output_type": "stream",
     "text": [
      "c:\\Users\\V Nikhil\\AppData\\Local\\Programs\\Python\\Python312\\Lib\\site-packages\\tqdm\\auto.py:21: TqdmWarning: IProgress not found. Please update jupyter and ipywidgets. See https://ipywidgets.readthedocs.io/en/stable/user_install.html\n",
      "  from .autonotebook import tqdm as notebook_tqdm\n"
     ]
    }
   ],
   "source": [
    "from pgmpy.models import BayesianNetwork\n",
    "from pgmpy.factors.discrete import TabularCPD\n",
    "from pgmpy.inference import VariableElimination"
   ]
  },
  {
   "cell_type": "code",
   "execution_count": 3,
   "metadata": {},
   "outputs": [],
   "source": [
    "# Define the structure of the Bayesian Network\n",
    "model = BayesianNetwork([('B', 'A'), ('E', 'A'), ('A', 'S'), ('A', 'D')])"
   ]
  },
  {
   "cell_type": "code",
   "execution_count": 4,
   "metadata": {},
   "outputs": [],
   "source": [
    "# Define the Conditional Probability Distributions (CPDs)\n",
    "cpd_b = TabularCPD(variable='B', variable_card=2, values=[[0.99], [0.01]])\n",
    "cpd_e = TabularCPD(variable='E', variable_card=2, values=[[0.98], [0.02]])\n",
    "cpd_a = TabularCPD(variable='A', variable_card=2,\n",
    "                   values=[[0.999, 0.71, 0.06, 0.05],\n",
    "                           [0.001, 0.29, 0.94, 0.95]],\n",
    "                   evidence=['B', 'E'], evidence_card=[2, 2])\n",
    "cpd_s = TabularCPD(variable='S', variable_card=2,\n",
    "                   values=[[0.95, 0.1],\n",
    "                           [0.05, 0.9]],\n",
    "                   evidence=['A'], evidence_card=[2])\n",
    "cpd_d = TabularCPD(variable='D', variable_card=2,\n",
    "                   values=[[0.95, 0.2],\n",
    "                           [0.05, 0.8]],\n",
    "                   evidence=['A'], evidence_card=[2])"
   ]
  },
  {
   "cell_type": "code",
   "execution_count": 5,
   "metadata": {},
   "outputs": [],
   "source": [
    "# Add CPDs to the model\n",
    "model.add_cpds(cpd_b, cpd_e, cpd_a, cpd_s, cpd_d)"
   ]
  },
  {
   "cell_type": "code",
   "execution_count": 6,
   "metadata": {},
   "outputs": [],
   "source": [
    "# Check if the model is consistent with the CPDs\n",
    "assert model.check_model()"
   ]
  },
  {
   "cell_type": "code",
   "execution_count": 7,
   "metadata": {},
   "outputs": [],
   "source": [
    "# Initialize the Variable Elimination inference\n",
    "inference = VariableElimination(model)"
   ]
  },
  {
   "cell_type": "code",
   "execution_count": 8,
   "metadata": {},
   "outputs": [],
   "source": [
    "# Computing the marginal probability of a variable\n",
    "marginal_prob_s = inference.query(variables=['S'])\n",
    "marginal_prob_d = inference.query(variables=['D'])"
   ]
  },
  {
   "cell_type": "code",
   "execution_count": 9,
   "metadata": {},
   "outputs": [
    {
     "name": "stdout",
     "output_type": "stream",
     "text": [
      "Marginal Probability of Sophia calls:\n",
      "+------+----------+\n",
      "| S    |   phi(S) |\n",
      "+======+==========+\n",
      "| S(0) |   0.9363 |\n",
      "+------+----------+\n",
      "| S(1) |   0.0637 |\n",
      "+------+----------+\n"
     ]
    }
   ],
   "source": [
    "print(\"Marginal Probability of Sophia calls:\")\n",
    "print(marginal_prob_s)"
   ]
  },
  {
   "cell_type": "code",
   "execution_count": 10,
   "metadata": {},
   "outputs": [
    {
     "name": "stdout",
     "output_type": "stream",
     "text": [
      "\n",
      "Marginal Probability of David calls:\n",
      "+------+----------+\n",
      "| D    |   phi(D) |\n",
      "+======+==========+\n",
      "| D(0) |   0.9379 |\n",
      "+------+----------+\n",
      "| D(1) |   0.0621 |\n",
      "+------+----------+\n"
     ]
    }
   ],
   "source": [
    "print(\"\\nMarginal Probability of David calls:\")\n",
    "print(marginal_prob_d)"
   ]
  },
  {
   "cell_type": "markdown",
   "metadata": {},
   "source": [
    "Code Two"
   ]
  },
  {
   "cell_type": "code",
   "execution_count": 2,
   "metadata": {},
   "outputs": [],
   "source": [
    "model = BayesianNetwork([('B', 'A'), ('E', 'A'), ('A', 'S'), ('A', 'D')])"
   ]
  },
  {
   "cell_type": "code",
   "execution_count": 3,
   "metadata": {},
   "outputs": [],
   "source": [
    "cpd_b = TabularCPD(variable='B', variable_card=2, values=[[0.99], [0.01]])\n",
    "cpd_e = TabularCPD(variable='E', variable_card=2, values=[[0.98], [0.02]])\n",
    "cpd_a = TabularCPD(variable='A', variable_card=2,\n",
    "                   values=[[0.999, 0.71, 0.06, 0.05],\n",
    "                           [0.001, 0.29, 0.94, 0.95]],\n",
    "                   evidence=['B', 'E'], evidence_card=[2, 2])\n",
    "cpd_s = TabularCPD(variable='S', variable_card=2,\n",
    "                   values=[[0.95, 0.1],\n",
    "                           [0.05, 0.9]],\n",
    "                   evidence=['A'], evidence_card=[2])\n",
    "cpd_d = TabularCPD(variable='D', variable_card=2,\n",
    "                   values=[[0.95, 0.2],\n",
    "                           [0.05, 0.8]],\n",
    "                   evidence=['A'], evidence_card=[2])"
   ]
  },
  {
   "cell_type": "code",
   "execution_count": 4,
   "metadata": {},
   "outputs": [],
   "source": [
    "model.add_cpds(cpd_b, cpd_e, cpd_a, cpd_s, cpd_d)"
   ]
  },
  {
   "cell_type": "code",
   "execution_count": 5,
   "metadata": {},
   "outputs": [],
   "source": [
    "assert model.check_model()"
   ]
  },
  {
   "cell_type": "code",
   "execution_count": 6,
   "metadata": {},
   "outputs": [],
   "source": [
    "inference = VariableElimination(model)"
   ]
  },
  {
   "cell_type": "code",
   "execution_count": 7,
   "metadata": {},
   "outputs": [],
   "source": [
    "marginal_prob_s = inference.query(variables=['S'])\n",
    "marginal_prob_d = inference.query(variables=['D'])"
   ]
  },
  {
   "cell_type": "code",
   "execution_count": 8,
   "metadata": {},
   "outputs": [
    {
     "name": "stdout",
     "output_type": "stream",
     "text": [
      "Marginal Probability of Sophia calls:\n",
      "+------+----------+\n",
      "| S    |   phi(S) |\n",
      "+======+==========+\n",
      "| S(0) |   0.9363 |\n",
      "+------+----------+\n",
      "| S(1) |   0.0637 |\n",
      "+------+----------+\n",
      "\n",
      "Marginal Probability of David calls:\n",
      "+------+----------+\n",
      "| D    |   phi(D) |\n",
      "+======+==========+\n",
      "| D(0) |   0.9379 |\n",
      "+------+----------+\n",
      "| D(1) |   0.0621 |\n",
      "+------+----------+\n"
     ]
    }
   ],
   "source": [
    "print(\"Marginal Probability of Sophia calls:\")\n",
    "print(marginal_prob_s)\n",
    "\n",
    "print(\"\\nMarginal Probability of David calls:\")\n",
    "print(marginal_prob_d)"
   ]
  },
  {
   "cell_type": "code",
   "execution_count": 9,
   "metadata": {},
   "outputs": [
    {
     "name": "stdout",
     "output_type": "stream",
     "text": [
      "\n",
      "Marginal Probability of A occurs:\n",
      "+------+----------+\n",
      "| A    |   phi(A) |\n",
      "+======+==========+\n",
      "| A(0) |   0.9839 |\n",
      "+------+----------+\n",
      "| A(1) |   0.0161 |\n",
      "+------+----------+\n"
     ]
    }
   ],
   "source": [
    "marginal_prob_a = inference.query(variables=['A'])\n",
    "print(\"\\nMarginal Probability of A occurs:\")\n",
    "print(marginal_prob_a)"
   ]
  }
 ],
 "metadata": {
  "interpreter": {
   "hash": "76ad95f14593b0a2fc24d0a09d92258fca1e0075874122d58dd1bae94a601e54"
  },
  "kernelspec": {
   "display_name": "Python 3.11.4 64-bit",
   "language": "python",
   "name": "python3"
  },
  "language_info": {
   "codemirror_mode": {
    "name": "ipython",
    "version": 3
   },
   "file_extension": ".py",
   "mimetype": "text/x-python",
   "name": "python",
   "nbconvert_exporter": "python",
   "pygments_lexer": "ipython3",
   "version": "3.12.2"
  },
  "orig_nbformat": 4
 },
 "nbformat": 4,
 "nbformat_minor": 2
}
