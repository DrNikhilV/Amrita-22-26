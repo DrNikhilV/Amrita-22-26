{
 "cells": [
  {
   "cell_type": "code",
   "execution_count": 1,
   "metadata": {},
   "outputs": [
    {
     "name": "stderr",
     "output_type": "stream",
     "text": [
      "c:\\Users\\V Nikhil\\AppData\\Local\\Programs\\Python\\Python312\\Lib\\site-packages\\tqdm\\auto.py:21: TqdmWarning: IProgress not found. Please update jupyter and ipywidgets. See https://ipywidgets.readthedocs.io/en/stable/user_install.html\n",
      "  from .autonotebook import tqdm as notebook_tqdm\n"
     ]
    }
   ],
   "source": [
    "import numpy as np\n",
    "import pandas as pd\n",
    "from pgmpy.models import BayesianNetwork\n",
    "from pgmpy.estimators import MaximumLikelihoodEstimator\n",
    "from pgmpy.inference import VariableElimination"
   ]
  },
  {
   "cell_type": "code",
   "execution_count": 2,
   "metadata": {},
   "outputs": [],
   "source": [
    "# Define the Bayesian Network structure\n",
    "model = BayesianNetwork([\n",
    "    ('T', 'S'),  # Theft causes Siren\n",
    "    ('Q', 'S'),  # Earthquake causes Siren\n",
    "    ('S', 'K'),  # Siren causes Kevin to call\n",
    "    ('S', 'L')   # Siren causes Lisa to call\n",
    "])"
   ]
  },
  {
   "cell_type": "code",
   "execution_count": 3,
   "metadata": {},
   "outputs": [],
   "source": [
    "data = pd.DataFrame(np.random.randint(0, 2, size=(1000, 5)), columns=['T', 'Q', 'S', 'K', 'L'])\n",
    "\n",
    "#Learn the parameters (CPDs) from data\n",
    "model.fit(data, estimator=MaximumLikelihoodEstimator)"
   ]
  },
  {
   "cell_type": "code",
   "execution_count": 4,
   "metadata": {},
   "outputs": [
    {
     "name": "stdout",
     "output_type": "stream",
     "text": [
      "\n",
      "CPD of T:\n",
      "+------+-------+\n",
      "| T(0) | 0.497 |\n",
      "+------+-------+\n",
      "| T(1) | 0.503 |\n",
      "+------+-------+\n",
      "\n",
      "CPD of S:\n",
      "+------+--------------------+-----+--------------------+\n",
      "| Q    | Q(0)               | ... | Q(1)               |\n",
      "+------+--------------------+-----+--------------------+\n",
      "| T    | T(0)               | ... | T(1)               |\n",
      "+------+--------------------+-----+--------------------+\n",
      "| S(0) | 0.5148936170212766 | ... | 0.5471698113207547 |\n",
      "+------+--------------------+-----+--------------------+\n",
      "| S(1) | 0.4851063829787234 | ... | 0.4528301886792453 |\n",
      "+------+--------------------+-----+--------------------+\n",
      "\n",
      "CPD of Q:\n",
      "+------+-------+\n",
      "| Q(0) | 0.473 |\n",
      "+------+-------+\n",
      "| Q(1) | 0.527 |\n",
      "+------+-------+\n",
      "\n",
      "CPD of K:\n",
      "+------+--------------------+--------------------+\n",
      "| S    | S(0)               | S(1)               |\n",
      "+------+--------------------+--------------------+\n",
      "| K(0) | 0.4689922480620155 | 0.5144628099173554 |\n",
      "+------+--------------------+--------------------+\n",
      "| K(1) | 0.5310077519379846 | 0.4855371900826446 |\n",
      "+------+--------------------+--------------------+\n",
      "\n",
      "CPD of L:\n",
      "+------+---------------------+---------------------+\n",
      "| S    | S(0)                | S(1)                |\n",
      "+------+---------------------+---------------------+\n",
      "| L(0) | 0.5135658914728682  | 0.47107438016528924 |\n",
      "+------+---------------------+---------------------+\n",
      "| L(1) | 0.48643410852713176 | 0.5289256198347108  |\n",
      "+------+---------------------+---------------------+\n"
     ]
    }
   ],
   "source": [
    "#Print the learned CPDs\n",
    "for cpd in model.get_cpds():\n",
    "    print(f\"\\nCPD of {cpd.variable}:\")\n",
    "    print(cpd)"
   ]
  },
  {
   "cell_type": "code",
   "execution_count": 5,
   "metadata": {},
   "outputs": [
    {
     "name": "stdout",
     "output_type": "stream",
     "text": [
      "\n",
      "P(T | K=true, L=true):\n",
      "+------+----------+\n",
      "| T    |   phi(T) |\n",
      "+======+==========+\n",
      "| T(0) |   0.4969 |\n",
      "+------+----------+\n",
      "| T(1) |   0.5031 |\n",
      "+------+----------+\n"
     ]
    }
   ],
   "source": [
    "#Perform inference with the learned model\n",
    "inference = VariableElimination(model)\n",
    "result = inference.query(variables=['T'], evidence={'K': 1, 'L': 1})\n",
    "\n",
    "print(\"\\nP(T | K=true, L=true):\")\n",
    "print(result)"
   ]
  }
 ],
 "metadata": {
  "kernelspec": {
   "display_name": "Python 3",
   "language": "python",
   "name": "python3"
  },
  "language_info": {
   "codemirror_mode": {
    "name": "ipython",
    "version": 3
   },
   "file_extension": ".py",
   "mimetype": "text/x-python",
   "name": "python",
   "nbconvert_exporter": "python",
   "pygments_lexer": "ipython3",
   "version": "3.12.2"
  }
 },
 "nbformat": 4,
 "nbformat_minor": 2
}
