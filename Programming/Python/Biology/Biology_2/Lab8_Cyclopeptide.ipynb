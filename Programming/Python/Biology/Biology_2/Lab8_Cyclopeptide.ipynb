{
 "cells": [
  {
   "cell_type": "code",
   "execution_count": 1,
   "metadata": {},
   "outputs": [
    {
     "name": "stdout",
     "output_type": "stream",
     "text": [
      "CPTPV|CPTVP|CPVVV|CVPVV|PTPTT|PTTVV|PTVTV|PTVVT|PVTTV|TVVVV\n"
     ]
    }
   ],
   "source": [
    "amino_acid = {\"A\": 71, \"R\": 156, \"N\": 114, \"D\": 115, \"C\": 103, \"E\": 129, \"Q\": 128, \"G\": 57, \"H\": 137, \"I\": 113,\n",
    "              \"L\": 113, \"K\": 128, \"M\": 131, \"F\": 147, \"P\": 97, \"S\": 87, \"T\": 101, \"W\": 186, \"Y\": 163, \"V\": 99}\n",
    "\n",
    "\n",
    "def weight(amino_acids):\n",
    "    w = 0\n",
    "    combinations = []\n",
    "    for i in amino_acids:\n",
    "        if i in amino_acid.keys():\n",
    "            w += amino_acid[i]\n",
    "            combinations.append(amino_acid[i])\n",
    "    return w, combinations\n",
    "\n",
    "\n",
    "def CyclicPermutations(string):\n",
    "    r = []\n",
    "    for i in range(len(string)):\n",
    "        r.append(string[i:] + string[:i])\n",
    "    string = string[::-1]\n",
    "    for i in range(len(string)):\n",
    "        r.append(string[i:] + string[:i])\n",
    "    return r\n",
    "\n",
    "\n",
    "def formatted_output(cyclic_peptides):\n",
    "    # Change the way cyclic peptides are represented\n",
    "    formatted_result = \"|\".join(cyclic_peptides)\n",
    "    return formatted_result\n",
    "\n",
    "\n",
    "def Cyclopeptide(spectrum):\n",
    "    result = [[\"\"]]\n",
    "    while len(result[-1]):\n",
    "        options = []\n",
    "        for i in result[-1]:\n",
    "            for j in amino_acid.keys():\n",
    "                options.append(i + j)\n",
    "        selected = []\n",
    "        for i in options:\n",
    "            w = weight(i)\n",
    "            if w[0] in spectrum and len(set(w[-1]) - set(spectrum)) == 0:\n",
    "                selected.append(i)\n",
    "        result.append(selected)\n",
    "    result.pop()\n",
    "    final = result[-1]\n",
    "    visited = []\n",
    "    go = []\n",
    "    for i in range(len(final)):\n",
    "        if final[i] in visited:\n",
    "            continue\n",
    "        goto = [final[i]]\n",
    "        all_cyclic_combinations = CyclicPermutations(final[i])\n",
    "        flag = 0\n",
    "        for a in all_cyclic_combinations:\n",
    "            if a not in final:\n",
    "                flag = 1\n",
    "            else:\n",
    "                goto.append(a)\n",
    "        if flag == 0:\n",
    "            visited.extend(goto)\n",
    "            go.append(goto)\n",
    "        else:\n",
    "            visited.extend(goto)\n",
    "    cyclic_peptide = [a[0] for a in go]\n",
    "    return formatted_output(cyclic_peptide)\n",
    "\n",
    "\n",
    "spectrum = [0, 97, 97, 99, 101, 103, 196, 198, 198, 200, 202, 295, 297, 299, 299, 301, 394, 396, 398, 400, 400, 497]\n",
    "formatted_result = Cyclopeptide(spectrum)\n",
    "print(formatted_result)"
   ]
  }
 ],
 "metadata": {
  "kernelspec": {
   "display_name": "Python 3",
   "language": "python",
   "name": "python3"
  },
  "language_info": {
   "codemirror_mode": {
    "name": "ipython",
    "version": 3
   },
   "file_extension": ".py",
   "mimetype": "text/x-python",
   "name": "python",
   "nbconvert_exporter": "python",
   "pygments_lexer": "ipython3",
   "version": "3.12.2"
  }
 },
 "nbformat": 4,
 "nbformat_minor": 2
}
