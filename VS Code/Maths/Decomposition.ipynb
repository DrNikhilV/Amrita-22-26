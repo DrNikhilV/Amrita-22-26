{
 "cells": [
  {
   "cell_type": "code",
   "execution_count": 1,
   "metadata": {},
   "outputs": [
    {
     "name": "stdout",
     "output_type": "stream",
     "text": [
      "[[1.         0.         0.        ]\n",
      " [0.14285714 1.         0.        ]\n",
      " [0.57142857 0.5        1.        ]]\n",
      "\n",
      "[[7.         8.         9.        ]\n",
      " [0.         0.85714286 1.71428571]\n",
      " [0.         0.         0.        ]]\n"
     ]
    }
   ],
   "source": [
    "import numpy as np\n",
    "from scipy.linalg import lu\n",
    "\n",
    "A = np.array([[1,2,3],\n",
    "              [4,5,6],\n",
    "              [7,8,9]])\n",
    "\n",
    "Z,L,U = lu(A)\n",
    "\n",
    "print(L)\n",
    "print()\n",
    "print(U)"
   ]
  },
  {
   "cell_type": "code",
   "execution_count": 3,
   "metadata": {},
   "outputs": [
    {
     "name": "stdout",
     "output_type": "stream",
     "text": [
      "[[0.83577878 0.23862286 0.50837871]\n",
      " [0.72051849 0.94882241 0.80375371]\n",
      " [0.9617494  0.2422171  0.58183219]]\n",
      "\n",
      "[[-0.5709752   0.29839693 -0.76481801]\n",
      " [-0.49223335 -0.8700116   0.02803836]\n",
      " [-0.65703398  0.39247814  0.64363597]]\n",
      "\n",
      "[[-1.46377422 -0.76243463 -1.06818954]\n",
      " [ 0.         -0.65921725 -0.31921998]\n",
      " [ 0.          0.          0.00820686]]\n"
     ]
    }
   ],
   "source": [
    "import numpy as np\n",
    "A = np.random.rand(3,3)\n",
    "Q,R = np.linalg.qr(A)\n",
    "print(A)\n",
    "print()\n",
    "print(Q)\n",
    "print()\n",
    "print(R)"
   ]
  },
  {
   "cell_type": "code",
   "execution_count": 4,
   "metadata": {},
   "outputs": [
    {
     "name": "stdout",
     "output_type": "stream",
     "text": [
      "[[0.4470469  0.27235044 0.57176999]\n",
      " [0.27235044 0.94755864 0.43256804]\n",
      " [0.57176999 0.43256804 0.91287236]]\n",
      "\n",
      "[[0.66861566 0.         0.        ]\n",
      " [0.40733483 0.88410236 0.        ]\n",
      " [0.85515496 0.09527589 0.41533705]]\n",
      "\n",
      "[[0.66861566 0.40733483 0.85515496]\n",
      " [0.         0.88410236 0.09527589]\n",
      " [0.         0.         0.41533705]]\n"
     ]
    }
   ],
   "source": [
    "import numpy as np\n",
    "A = np.random.rand(3,3)\n",
    "A = np.dot(A,A.transpose())\n",
    "B = np.linalg.cholesky(A)\n",
    "\n",
    "print(A)\n",
    "print()\n",
    "print(B)\n",
    "print()\n",
    "print(np.transpose(B))"
   ]
  }
 ],
 "metadata": {
  "kernelspec": {
   "display_name": "Python 3",
   "language": "python",
   "name": "python3"
  },
  "language_info": {
   "codemirror_mode": {
    "name": "ipython",
    "version": 3
   },
   "file_extension": ".py",
   "mimetype": "text/x-python",
   "name": "python",
   "nbconvert_exporter": "python",
   "pygments_lexer": "ipython3",
   "version": "3.12.2"
  }
 },
 "nbformat": 4,
 "nbformat_minor": 2
}
